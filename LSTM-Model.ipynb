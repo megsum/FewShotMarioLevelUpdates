{
  "nbformat": 4,
  "nbformat_minor": 0,
  "metadata": {
    "colab": {
      "provenance": [],
      "include_colab_link": true
    },
    "kernelspec": {
      "name": "python3",
      "display_name": "Python 3"
    },
    "language_info": {
      "name": "python"
    }
  },
  "cells": [
    {
      "cell_type": "markdown",
      "metadata": {
        "id": "view-in-github",
        "colab_type": "text"
      },
      "source": [
        "<a href=\"https://colab.research.google.com/github/megsum/FewShotMarioLevelUpdates/blob/main/LSTM-Model.ipynb\" target=\"_parent\"><img src=\"https://colab.research.google.com/assets/colab-badge.svg\" alt=\"Open In Colab\"/></a>"
      ]
    },
    {
      "cell_type": "markdown",
      "source": [
        "# Resources and Notes"
      ],
      "metadata": {
        "id": "ER-0BrgIT6Rr"
      }
    },
    {
      "cell_type": "markdown",
      "source": [
        "Useful links:\n",
        "https://towardsdatascience.com/lstm-recurrent-neural-networks-how-to-teach-a-network-to-remember-the-past-55e54c2ff22e\n",
        "\n",
        "https://cnvrg.io/pytorch-lstm/\n",
        "\n",
        "https://github.com/adamsumm/SMB_RNN_TUTORIAL"
      ],
      "metadata": {
        "id": "K65oztmPVXXP"
      }
    },
    {
      "cell_type": "markdown",
      "source": [],
      "metadata": {
        "id": "Z_Skbenli8FL"
      }
    },
    {
      "cell_type": "markdown",
      "source": [
        "Notes from Megan:\n",
        "\n",
        "I am actually a bit more familiar with PyTorch now because of the other course I'm taking and think it might be a good way to work on this assignment. I'm going to keep a tensorflow approach in here, but start working on the PyTorch approach and see how it goes!\n",
        "\n",
        "\n",
        "TODO for Final Project\n",
        "* ✅Make sure the output is the same as the level but with question mark added in some places. This is a big unknown for me still. I'm not sure the best way to do this\n",
        "* ✅Add more to the LSTM. New layer, a better foundation between the long term memory information and forget gate.\n",
        "* Split between test levels and training levels potentially. Is that needed for this approach?\n",
        "* ✅ Measure the accuracy difference between the real level and the level outputted with the LSTM\n",
        "* ✅ Try the LSTM with different block removed (maybe the enemy block)\n",
        "* Try the LSTM with same block removed, but replace it with a different block. We are currently always replacing the removed block with ground, but it might be useful to try replacing with sky and see if we get a better result\n",
        "* ✅ Add visualizer \n",
        "* ✅ Remove question mark block type from the input\n",
        "* ✅ Keep question mark in one block type\n",
        "* ✅ Train on question mark addition level\n",
        "* ✅ Predict on levels with question marks removed"
      ],
      "metadata": {
        "id": "IUIDBF8KTnhc"
      }
    },
    {
      "cell_type": "markdown",
      "source": [
        "# Imports and Dataset Preprocessing"
      ],
      "metadata": {
        "id": "HJZ8GRbHUB7R"
      }
    },
    {
      "cell_type": "markdown",
      "source": [
        "Import necessary libraries to the project.\n"
      ],
      "metadata": {
        "id": "UaZmFciLD-01"
      }
    },
    {
      "cell_type": "code",
      "source": [
        "import numpy as np\n",
        "import pandas as pd \n",
        "import glob\n",
        "import os\n",
        "from datetime import datetime\n",
        "from google.colab import drive\n",
        "import sys\n",
        "from PIL import Image\n",
        "\n",
        "# Torch imports\n",
        "import torch\n",
        "import torch.nn as nn\n",
        "from torch.autograd import Variable\n"
      ],
      "metadata": {
        "id": "5G4rLLdPUWUV"
      },
      "execution_count": null,
      "outputs": []
    },
    {
      "cell_type": "code",
      "execution_count": null,
      "metadata": {
        "colab": {
          "base_uri": "https://localhost:8080/"
        },
        "id": "LfDuqGIqrTng",
        "outputId": "b10e84c3-3f2c-443a-e8cf-150345b95e09"
      },
      "outputs": [
        {
          "output_type": "stream",
          "name": "stdout",
          "text": [
            "Drive already mounted at /content/drive; to attempt to forcibly remount, call drive.mount(\"/content/drive\", force_remount=True).\n"
          ]
        }
      ],
      "source": [
        "# Link to drive to get access to the dataset\n",
        "drive.mount('/content/drive')"
      ]
    },
    {
      "cell_type": "code",
      "execution_count": null,
      "metadata": {
        "id": "b-a0Rd15sbz5"
      },
      "outputs": [],
      "source": [
        "# Data exists in google drive. Mounting it to this location so it can be accessed from Google Colab\n",
        "# TODO: need to split between training and test data still\n",
        "# X paths contain all the old levels (This eventually will need to be reversed with the y paths, but I want more samples to go off of right now)\n",
        "x_train_path = '/content/drive/MyDrive/datasets/SMB_Data/Training_Level/' \n",
        "\n",
        "sprites_path = '/content/drive/MyDrive/datasets/SMB_Data/Sprites/'\n",
        "\n",
        "# y paths contain the updated level with the new block\n",
        "y_path = '/content/drive/MyDrive/datasets/SMB_Data/Modified_SMB_Data/' \n",
        "\n",
        "# Output location to place the updated levels with the new block addtion\n",
        "output_path = '/content/drive/MyDrive/datasets/SMB_Data/Output/'\n"
      ]
    },
    {
      "cell_type": "code",
      "source": [
        "# Block mapping for one-hot vector encoding\n",
        "tiles = [\n",
        "        \"X\",\n",
        "        \"S\",\n",
        "        \"-\",\n",
        "        \"?\",\n",
        "        \"Q\",\n",
        "        \"E\",\n",
        "        \"<\",\n",
        "        \">\",\n",
        "        \"[\",\n",
        "        \"]\",\n",
        "        \"o\",\n",
        "        \"B\",\n",
        "        \"b\"\n",
        "        ]\n",
        "    \n",
        "print (tiles)"
      ],
      "metadata": {
        "colab": {
          "base_uri": "https://localhost:8080/"
        },
        "id": "0mDyIKmUCXBV",
        "outputId": "e2181296-22f8-4180-e9e9-9bd421d2150e"
      },
      "execution_count": null,
      "outputs": [
        {
          "output_type": "stream",
          "name": "stdout",
          "text": [
            "['X', 'S', '-', '?', 'Q', 'E', '<', '>', '[', ']', 'o', 'B', 'b']\n"
          ]
        }
      ]
    },
    {
      "cell_type": "markdown",
      "source": [
        "Define Parameters\n"
      ],
      "metadata": {
        "id": "mjo9XKno--lp"
      }
    },
    {
      "cell_type": "code",
      "source": [
        "# hyperparameters\n",
        "# I used 2000 epochs because the generator started giving good results when the loss was under 0.2 which took around 1500 epochs\n",
        "num_epochs = 2000\n",
        "learning_rate = 0.01\n",
        "\n",
        "input_size = 13 #number of features\n",
        "hidden_size = 10 #number of features in hidden state\n",
        "num_layers = 2 #number of stacked lstm layers.\n",
        "\n",
        "num_classes = 13 #number of output classes \n",
        "\n",
        "maxlen =  48 # Max length of a row. Will segment the levels into this size of chunks\n",
        "\n",
        "step = 1 # Step size \n",
        "\n",
        "modified_char = [\"b\", \"B\"] # This allows us to compare accuracy of the missing character"
      ],
      "metadata": {
        "id": "KhgSBlPIki9X"
      },
      "execution_count": null,
      "outputs": []
    },
    {
      "cell_type": "code",
      "source": [
        "# Following this approach https://github.com/adamsumm/SMB_RNN_TUTORIAL/blob/master/So%20you%20want%20to%20replicate%20my%20work.ipynb\n",
        "# Load updated level into training level list\n",
        "# This should give us a level in vertical strips that the LSTM can use as sequential data\n",
        "def parse_levels(path):\n",
        "  outstr = ''\n",
        "  for levelFile in glob.glob(os.path.join(path, \"*.txt\")):\n",
        "    print (\"Processing: \" + levelFile) #print out which level is being loaded\n",
        "    with open(levelFile) as fp:\n",
        "      for level in fp:\n",
        "        level = level.strip('\\n')\n",
        "        width = len(level[0])\n",
        "        height = len(level)\n",
        "        for column in range(width):\n",
        "            for row in range(height):\n",
        "                outstr += level[row][column]\n",
        "  return outstr\n",
        "\n",
        "# Helper functions to convert to and from a tile based representation\n",
        "def tile_to_one_hot_level(text):\n",
        "  sentences = []\n",
        "  next_chars = []\n",
        "  # Convert data into batches\n",
        "  for i in range(0, len(text) - maxlen, step):\n",
        "      sentences.append(text[i: i + maxlen])\n",
        "      next_chars.append(text[i + maxlen])\n",
        "\n",
        "  # Create sequential arrays for X and y\n",
        "  X = np.zeros((len(sentences), maxlen, len(tiles)), dtype=bool)\n",
        "  y = np.zeros((len(sentences), len(tiles)), dtype=bool)\n",
        "  for i, sentence in enumerate(sentences):\n",
        "    for t, char in enumerate(sentence):\n",
        "        X[i, t, tiles.index(char)] = 1\n",
        "    y[i, tiles.index(next_chars[i])] = 1\n",
        "  return X, y\n",
        "\n",
        "# Referenced from https://github.com/Mawiszus/TOAD-GAN/blob/master/mario/level_utils.py\n",
        "def one_hot_to_tile_level(level):\n",
        "  \"\"\" Converts a full token level tensor to an ascii level. \"\"\"\n",
        "  ascii_level = ''\n",
        "  for i in range(len(level)):\n",
        "    for j in range(len(level[i])):\n",
        "      if level[i][j] == 1:\n",
        "        ascii_level += tiles[j]\n",
        "      if len(ascii_level) % maxlen == 0:\n",
        "        ascii_level += \"\\n\"\n",
        "  return ascii_level\n"
      ],
      "metadata": {
        "id": "mT-aUwniCCmz"
      },
      "execution_count": null,
      "outputs": []
    },
    {
      "cell_type": "code",
      "source": [
        "'''\n",
        "Data preprocessing steps\n",
        "1) Read the dataset\n",
        "\n",
        "2) Convert text files into an array of strings (each string represents a level)\n",
        "\n",
        "3) Split one level into multiple samples\n",
        "\n",
        "4) May need to convert the characters into one hot encoding\n",
        "\n",
        "5) Convert the array of strings into a tensor that can be used in pytorch\n",
        "'''\n",
        "training_text = parse_levels(x_train_path)\n",
        "y_text = parse_levels(y_path)\n",
        "X, y = tile_to_one_hot_level(training_text)\n",
        "y_hat, _ = tile_to_one_hot_level(y_text)\n",
        "\n",
        "# Convert one hot encoding to a tensor for PyTorch\n",
        "X_tensor = torch.Tensor(X)\n",
        "y_tensor = torch.Tensor(y)\n",
        "y_hat_tensor = torch.Tensor(y_hat)"
      ],
      "metadata": {
        "colab": {
          "base_uri": "https://localhost:8080/"
        },
        "id": "cYeFHgzcnj1H",
        "outputId": "86f797df-a030-4ffb-fdf6-0a1991415099"
      },
      "execution_count": null,
      "outputs": [
        {
          "output_type": "stream",
          "name": "stdout",
          "text": [
            "Processing: /content/drive/MyDrive/datasets/SMB_Data/Training_Level/Question-mario-4-2.txt\n",
            "Processing: /content/drive/MyDrive/datasets/SMB_Data/Modified_SMB_Data/question-mario.txt\n"
          ]
        }
      ]
    },
    {
      "cell_type": "markdown",
      "source": [
        "# PyTorch LSTM"
      ],
      "metadata": {
        "id": "Er9Q0Okn3htS"
      }
    },
    {
      "cell_type": "code",
      "source": [
        "'''\n",
        "Step 1: Get data with specific block removed. (Maybe the question mark block for testing)\n",
        "\n",
        "Step 2: Try one level with the question mark added to it and train on it.\n",
        "\n",
        "Step 3: Cross the levels without the question mark with the level with the question mark and insert the new block\n",
        "\n",
        "Step 4: Compare the new levels with the old level and report accuracy\n",
        "'''\n",
        "\n",
        "# Used https://cnvrg.io/pytorch-lstm/ as a starting point\n",
        "class LSTM(nn.Module):\n",
        "  def __init__(self, num_classes, input_size, hidden_size, num_layers):\n",
        "    super(LSTM, self).__init__()\n",
        "    \n",
        "    # Inputs\n",
        "    self.num_classes = num_classes\n",
        "    self.num_layers = num_layers\n",
        "    self.input_size = input_size\n",
        "    self.hidden_size = hidden_size\n",
        "\n",
        "    # Neural Net layers\n",
        "    self.lstm = nn.LSTM(input_size=input_size, hidden_size=hidden_size, num_layers=num_layers, batch_first=True)\n",
        "    self.linear_1 = nn.Linear(hidden_size  * num_layers, 128) \n",
        "    self.linear_2 = nn.Linear(128, num_classes) \n",
        "    self.relu = nn.ReLU()\n",
        "    \n",
        "  def forward(self, x):\n",
        "    h_0 = Variable(torch.zeros(self.num_layers, len(x), self.hidden_size))\n",
        "    c_0 = Variable(torch.zeros(self.num_layers, len(x), self.hidden_size)) \n",
        "\n",
        "    # LSTM will take x and output the hidden layer\n",
        "    output, (hn, _) = self.lstm(x, (h_0, c_0))\n",
        "\n",
        "    hn = hn.view(-1, self.hidden_size * num_layers) #reshaping the data for Dense layer next\n",
        "\n",
        "    # Dense layers to resize data\n",
        "    out = self.relu(hn)\n",
        "    out = self.linear_1(out) #first Dense\n",
        "    out = self.relu(out) #relu\n",
        "    out = self.linear_2(out)\n",
        "\n",
        "    return out"
      ],
      "metadata": {
        "id": "HqQFABZmUkCK"
      },
      "execution_count": null,
      "outputs": []
    },
    {
      "cell_type": "code",
      "source": [
        "lstm = LSTM(num_classes, input_size, hidden_size, num_layers)\n",
        "\n",
        "criterion = torch.nn.CrossEntropyLoss()    # Cross Entropy Loss\n",
        "optimizer = torch.optim.Adam(lstm.parameters(), lr=learning_rate) \n",
        "\n",
        "for epoch in range(num_epochs):\n",
        "  outputs = lstm.forward(X_tensor) #forward pass\n",
        "  optimizer.zero_grad() #caluclate the gradient, manually setting to 0\n",
        " \n",
        "  # obtain the loss function\n",
        "  loss = criterion(outputs, y_tensor)\n",
        " \n",
        "  loss.backward() #calculates the loss of the loss function\n",
        "  # Generate level based off training\n",
        "\n",
        "  train_predict = lstm(y_hat_tensor)#forward pass\n",
        "  data_predict = train_predict.data.numpy() #numpy conversion\n",
        "\n",
        "  oh_predict = np.zeros(data_predict.shape)\n",
        "  for i in range(len(data_predict)):\n",
        "    index = np.argmax(data_predict[i])\n",
        "    oh_predict[i][index] = 1\n",
        "\n",
        "  level_predict = one_hot_to_tile_level(oh_predict)\n",
        "\n",
        "  print (level_predict)\n",
        "  optimizer.step() #improve from loss, i.e backprop\n",
        "  print(\"Epoch: %d, loss: %1.5f\" % (epoch, loss.item())) "
      ],
      "metadata": {
        "colab": {
          "base_uri": "https://localhost:8080/"
        },
        "id": "1P9jLwHpwzC2",
        "outputId": "2fdeef37-c50c-46e3-c626-92f845ce3b0b"
      },
      "execution_count": null,
      "outputs": [
        {
          "output_type": "stream",
          "name": "stdout",
          "text": [
            "Skipping early generation outputs, but they show up if ran in colab\n",
            "Epoch: 1982, loss: 0.14701\n",
            "\n",
            "-----------------------------------------------\n",
            "-----------------------------------------------\n",
            "SSS---SSS--S---SS-SSSSSSSSSSSSSSSSSS-----------\n",
            "----------------------SSS----------------------\n",
            "----S-------S--S-SSSSSSSSSSSSSSSSSSSS----------\n",
            "-----------------------------------------------\n",
            "---S----------------S--------------------------\n",
            "-----------------------------------------------\n",
            "------<]----[]---------------Q-----------------\n",
            "----------------------------<]----[]-----------\n",
            "-----------------------------------------------\n",
            "-----------------------------------------------\n",
            "--------------XXXXXXXXXXXXXXXXXX-XX-XXXXXX----\n",
            "Epoch: 1983, loss: 0.14779\n",
            "\n",
            "-----------------------------------------------\n",
            "-----------------------------------------------\n",
            "SSS---SSS--S---SS--SSSSSSSSSSSSSSSS------------\n",
            "----------------------SSS----------------------\n",
            "----S-------S--S-SS-SSSSSSSSSSSSSSSSS----------\n",
            "-----------------------------------------------\n",
            "---S----------------S--------------------------\n",
            "-----------------------------------------------\n",
            "------<]----[]---------------Q-----------------\n",
            "----------------------------<]----[]-----------\n",
            "-----------------------------------------------\n",
            "-----------------------------------------------\n",
            "--------------XXXXXXXXXXXXXXXXXX-XX-XXXXXX----\n",
            "Epoch: 1984, loss: 0.14870\n",
            "\n",
            "-----------------------------------------------\n",
            "-----------------------------------------------\n",
            "SSS---SSS--S---SS-SSSSSSSSSSSSSSSSSS-----------\n",
            "----------------------SSS----------------------\n",
            "----S-------S--S-SS-SSSSSSSSSSSSSSSSS----------\n",
            "-----------------------------------------------\n",
            "---S----------------S--------------------------\n",
            "-----------------------------------------------\n",
            "------<-----[]---------------Q-----------------\n",
            "----------------------------<-----[]-----------\n",
            "-----------------------------------------------\n",
            "-----------------------------------------------\n",
            "--------------XXXXXXXXXXXXXXXXXX-XX-XXXXXX----\n",
            "Epoch: 1985, loss: 0.15141\n",
            "\n",
            "-----------------------------------------------\n",
            "-----------------------------------------------\n",
            "-S----SSS--S---SS--SSSSSSSSSSSSSS--------------\n",
            "-----------------------S-----------------------\n",
            "----S-------S--S-SS-SSSSSSSSSSSSSSSS-----------\n",
            "-----------------------------------------------\n",
            "---S----------------S--------------------------\n",
            "-----------------------------------------------\n",
            "------<]----[]------------X--Q-----------------\n",
            "----------------------------<]----[]-----------\n",
            "-X---------------------------------------------\n",
            "-----------------------------------------------\n",
            "--------------XXXXXXXXXXXXXXXXXX-XX-XXXXXX----\n",
            "Epoch: 1986, loss: 0.15206\n",
            "\n",
            "-----------------------------------------------\n",
            "-----------------------------------------------\n",
            "SSS---SSS--S---SSSSSSSSSSSSSSSSSSSSS-----------\n",
            "----------------------SSS----------------------\n",
            "----S-------S-SS-SSSSSSSSSSSSSSSSSSSS----------\n",
            "-----------------------------------------------\n",
            "---S----------------S--------------------------\n",
            "-----------------------------------------------\n",
            "------<-----[]---------------Q-----------------\n",
            "----------------------------<-----[]-----------\n",
            "-----------------------------------------------\n",
            "-----------------------------------------------\n",
            "--------------XXXXXXXXXXXXXXXXXX-XX-XXXXXX----\n",
            "Epoch: 1987, loss: 0.15416\n",
            "\n",
            "-----------------------------------------------\n",
            "----------------------------------------X------\n",
            "-S----SSS--S---SS--SSSSSSSSSSSSSS--------------\n",
            "---------------X-------S-----------------------\n",
            "----S-------S--S-SSSSSSSSSSSSSSSSSSS-----------\n",
            "-----------------------------------------------\n",
            "---S----------------S--------------------------\n",
            "-----------------------------------------------\n",
            "------<]----[]------------X--Q-----------------\n",
            "----------------------------<]----[]-----------\n",
            "-X---------------------------------------------\n",
            "-----------------------------------------------\n",
            "--------------XXXXXXXXXXXXXXXXXX-XX-XXXXXX----\n",
            "Epoch: 1988, loss: 0.15463\n",
            "\n",
            "-----------------------------------------------\n",
            "-----------------------------------------------\n",
            "SSS---SSS--S---SSSSSSSSSSSSSSSSSSSSS-----------\n",
            "----------------------SSS----------------------\n",
            "----S-------S--S-SSSSSSSSSSSSSSSSSSSS----------\n",
            "-----------------------------------------------\n",
            "---S----------------S--------------------------\n",
            "-----------------------------------------------\n",
            "------<]----[]---------------Q-----------------\n",
            "----------------------------<]----[]-----------\n",
            "-----------------------------------------------\n",
            "-----------------------------------------------\n",
            "--------------XXXXXXXXXXXXXXXXXX-XX-XXXXXXX---\n",
            "Epoch: 1989, loss: 0.15440\n",
            "\n",
            "-----------------------------------------------\n",
            "-----------------------------------------------\n",
            "SSS---SSS--S---SSSSSSSSSSSSSSSSSSSS------------\n",
            "----------------------SSS----------------------\n",
            "----S-------S--S-SSSSSSSSSSSSSSSSSSSS----------\n",
            "-----------------------------------------------\n",
            "---S----------------S--------------------------\n",
            "-----------------------------------------------\n",
            "------<]----[]---------------Q-----------------\n",
            "----------------------------<]----[]-----------\n",
            "-----------------------------------------------\n",
            "-----------------------------------------------\n",
            "--------------XXXXXXXXXXXXXXXXXX-XX-XXXXXXX---\n",
            "Epoch: 1990, loss: 0.15190\n",
            "\n",
            "-----------------------------------------------\n",
            "-----------------------------------------------\n",
            "SSS---SSS--S---SSSSSSSSSSSSSSSSSSSSS-----------\n",
            "----------------------SSS----------------------\n",
            "----S-------S--S-SSSSSSSSSSSSSSSSSSSS----------\n",
            "-----------------------------------------------\n",
            "---S----------------S--------------------------\n",
            "-----------------------------------------------\n",
            "------<]----[]---------------Q-----------------\n",
            "----------------------------<]----[]-----------\n",
            "-----------------------------------------------\n",
            "-----------------------------------------------\n",
            "--------------XXXXXXXXXXXXXXXXXX-XX-XXXXXX----\n",
            "Epoch: 1991, loss: 0.14889\n",
            "\n",
            "-----------------------------------------------\n",
            "-----------------------------------------------\n",
            "SSS---SSS--S---SS--SSSSSSSSSSSSSSSS------------\n",
            "----------------------SSS----------------------\n",
            "----S-------S--S-SS-SSSSSSSSSSSSSSSSS----------\n",
            "-----------------------------------------------\n",
            "---S----------------S--------------------------\n",
            "-----------------------------------------------\n",
            "------<-----[]---------------Q-----------------\n",
            "----------------------------<-----[]-----------\n",
            "-----------------------------------------------\n",
            "-----------------------------------------------\n",
            "--------------XXXXXXXXXXXXXXXXXX-XX-XXXXXX----\n",
            "Epoch: 1992, loss: 0.15028\n",
            "\n",
            "-----------------------------------------------\n",
            "-----------------------------------------------\n",
            "SSS---SSS--S---SS--SSSSSSSSSSSSSS--------------\n",
            "----------------------SSS----------------------\n",
            "----S-------S--S-SSSSSSSSSSSSSSSSSSSS----------\n",
            "-----------------------------------------------\n",
            "---S----------------S--------------------------\n",
            "-----------------------------------------------\n",
            "------<]----[]---------------Q-----------------\n",
            "----------------------------<]----[]-----------\n",
            "-----------------------------------------------\n",
            "-----------------------------------------------\n",
            "--------------XXXXXXXXXXXXXXXXXX-XX-XXXXXX----\n",
            "Epoch: 1993, loss: 0.15018\n",
            "\n",
            "-----------------------------------------------\n",
            "-----------------------------------------------\n",
            "SSS---SSS--S---SS-SSSSSSSSSSSSSSSSSS-----------\n",
            "----------------------SSS----------------------\n",
            "----S-------S-SSSSSSSSSSSSSSSSSSSSSSS----------\n",
            "-----------------------------------------------\n",
            "---S----------------S--------------------------\n",
            "-----------------------------------------------\n",
            "------<]----[]---------------Q-----------------\n",
            "----------------------------<]----[]-----------\n",
            "-----------------------------------------------\n",
            "-----------------------------------------------\n",
            "--------------XXXXXXXXXXXXXXXXXX-XX-XXXXXXX---\n",
            "Epoch: 1994, loss: 0.15020\n",
            "\n",
            "-----------------------------------------------\n",
            "-----------------------------------------------\n",
            "SSS---SSS--S---SS--SSSSSSSSSSSSSSSSS-----------\n",
            "----------------------SSS----------------------\n",
            "----S-------S--S-SSSSSSSSSSSSSSSSSSSS----------\n",
            "-----------------------------------------------\n",
            "---S----------------S--------------------------\n",
            "-----------------------------------------------\n",
            "------<]----[]---------------Q-----------------\n",
            "----------------------------<]----[]-----------\n",
            "-----------------------------------------------\n",
            "-----------------------------------------------\n",
            "--------------XXXXXXXXXXXXXXXXXX-XX-XXXXXXX---\n",
            "Epoch: 1995, loss: 0.14927\n",
            "\n",
            "-----------------------------------------------\n",
            "-----------------------------------------------\n",
            "-SS---SSS--S---SS--SSSSSSSSSSSSSS--------------\n",
            "-----------------------SS----------------------\n",
            "----S-------S--S-SSSSSSSSSSSSSSSSSSSS----------\n",
            "-----------------------------------------------\n",
            "---S----------------S--------------------------\n",
            "-----------------------------------------------\n",
            "------<]----[]---------------Q-----------------\n",
            "----------------------------<]----[]-----------\n",
            "-----------------------------------------------\n",
            "-----------------------------------------------\n",
            "--------------XXXXXXXXXXXXXXXXXX-XX-XXXXXX----\n",
            "Epoch: 1996, loss: 0.14850\n",
            "\n",
            "-----------------------------------------------\n",
            "-----------------------------------------------\n",
            "SSS---SSS--S---SS-SSSSSSSSSSSSSSSSSS-----------\n",
            "----------------------SSS----------------------\n",
            "----S-------S--S-SSSSSSSSSSSSSSSSSSSS----------\n",
            "-----------------------------------------------\n",
            "---S----------------S--------------------------\n",
            "-----------------------------------------------\n",
            "------<-----[]---------------Q-----------------\n",
            "----------------------------<-----[]-----------\n",
            "-----------------------------------------------\n",
            "-----------------------------------------------\n",
            "--------------XXXXXXXXXXXXXXXXXX-XX-XXXXXX----\n",
            "Epoch: 1997, loss: 0.15180\n",
            "\n",
            "-----------------------------------------------\n",
            "-----------------------------------------------\n",
            "-S----SSS--S---SS--SSSSSSSSSSSSSS--------------\n",
            "-----------------------S-----------------------\n",
            "----S-------S--S-SSSSSSSSSSSSSSSSSSSS----------\n",
            "-----------------------------------------------\n",
            "---S----------------S--------------------------\n",
            "-----------------------------------------------\n",
            "------<]----[]------------X--Q-----------------\n",
            "----------------------------<]----[]-----------\n",
            "-X---------------------------------------------\n",
            "-----------------------------------------------\n",
            "--------------XXXXXXXXXXXXXXXXXX-XX-XXXXXX----\n",
            "Epoch: 1998, loss: 0.15226\n",
            "\n",
            "-----------------------------------------------\n",
            "----------------------------------------------S\n",
            "SSS---SSS--S---SS-SSSSSSSSSSSSSSSSSS-----------\n",
            "---------------------SSSS----------------------\n",
            "----S-------S-SSSSSSSSSSSSSSSSSSSSSSS----------\n",
            "-----------------------------------------------\n",
            "---S----------------S--------------------------\n",
            "-----------------------------------------------\n",
            "------[]----[]---------------Q-----[-----------\n",
            "----------------------------[]----[]-----------\n",
            "-----------------------------------------------\n",
            "-----------------------------------------------\n",
            "--------------XXXXXXXXXXXXXXXXXX-XX-XXXXXX----\n",
            "Epoch: 1999, loss: 0.15332\n"
          ]
        }
      ]
    },
    {
      "cell_type": "code",
      "source": [
        "# Generate level based off training\n",
        "train_predict = lstm(y_hat_tensor)#forward pass\n",
        "data_predict = train_predict.data.numpy() #numpy conversion\n",
        "\n",
        "oh_predict = np.zeros(data_predict.shape)\n",
        "# Convert max probability to one hot encoding\n",
        "for i in range(len(data_predict)):\n",
        "  for j in range(len(data_predict[i])):\n",
        "    index = np.argmax(data_predict[i])\n",
        "    oh_predict[i][index] = 1\n",
        "level_predict = one_hot_to_tile_level(oh_predict)\n",
        "print (level_predict)"
      ],
      "metadata": {
        "id": "Nhv2E-V8-IhO",
        "colab": {
          "base_uri": "https://localhost:8080/"
        },
        "outputId": "68bfa0dd-40c2-4201-ad10-557e52ee6a06"
      },
      "execution_count": null,
      "outputs": [
        {
          "output_type": "stream",
          "name": "stdout",
          "text": [
            "\n",
            "-----------------------------------------------\n",
            "-----------------------------------------------\n",
            "-----------------------------------------------\n",
            "-----------------------------------------------\n",
            "-----------------------------------------------\n",
            "----------SSS----------------------------------\n",
            "-----------------------------------------------\n",
            "-----------------------------------------------\n",
            "-----------------------------------------------\n",
            "-----------------------------------------------\n",
            "----------------------B--E-----------<-----B---\n",
            "--->----BBB----BB------bB-[B---]-->--]B-----b--\n",
            "--b-------XXXXXXXXXXXXXX------XXXXXXXXXXXXXX--\n"
          ]
        }
      ]
    },
    {
      "cell_type": "markdown",
      "source": [
        "# Visualizer"
      ],
      "metadata": {
        "id": "d25YQ_gneIii"
      }
    },
    {
      "cell_type": "code",
      "source": [
        "'''\n",
        "\n",
        "Script for visualizing the generated output.txt levels\n",
        "Implemented from warmup assignment\n",
        "\n",
        "'''\n",
        "# Manual level predict when we don't want to use the last output\n",
        "level_predict = '''-----------------------------------------------\n",
        "-----------------------------------------------\n",
        "------SSS--S---SS--S-SSSSSSSSSSS?--------------\n",
        "-----------------------------------------------\n",
        "-------------------------SSSS-----SQS----------\n",
        "------------------------------------S----------\n",
        "-----------------------------------------------\n",
        "-----------------------------------------------\n",
        "------<]----[]---------------------------------\n",
        "----------------------------<]?---[]-----------\n",
        "-----------------------------------------------\n",
        "-----------------------------------------------\n",
        "--------------XXXXXXXXXXXXXXXXXX-XX-XXXXXXX--XX'''\n",
        "\n",
        "#Load the set of all spritesv\n",
        "sprites = {}\n",
        "for filename in glob.glob(os.path.join(sprites_path, \"*.png\")):\n",
        "  im = Image.open(filename)\n",
        "  splits = filename.split(\"/\")\n",
        "  name = splits[-1][:-4]\n",
        "  sprites[name] = im.convert('RGBA')\n",
        "\n",
        "#This gives the mapping between the tile values and the associated sprite\n",
        "visualization = {}\n",
        "visualization[\"S\"] = \"brick\"\n",
        "visualization[\"s\"] = \"brick\"\n",
        "visualization[\"?\"] = \"exclamationBox\"\n",
        "visualization[\"Q\"] = \"exclamationBoxEmpty\"\n",
        "visualization[\"E\"] = \"enemy\"\n",
        "visualization[\"<\"] = \"bushTopLeft\"\n",
        "visualization[\">\"] = \"bushTopRight\"\n",
        "visualization[\"[\"] = \"bushLeft\"\n",
        "visualization[\"]\"] = \"bushRight\"\n",
        "visualization[\"o\"] = \"coin\"\n",
        "visualization[\"B\"] = \"cannonTop\"\n",
        "visualization[\"b\"] = \"cannonBottom\"\n",
        "\n",
        "# This reads in the level\n",
        "level = {}\n",
        "y = 0\n",
        "\n",
        "splits = level_predict.split(\"\\n\")\n",
        "for line in splits[1::]:\n",
        "\tif len(line) < 48 - 1:\n",
        "\t\tcontinue\n",
        "\tlevel[y] = line\n",
        "\ty+=1\n",
        "print(level)\n",
        "#Multiply by 18 here as each of the sprites is 18*18\n",
        "image = Image.new(\"RGB\", (18*len(level[0]), 18*len(level.keys())), color=(223, 245, 244)) #This creates an initially blank image for the level\n",
        "pixels = image.load() #This loads the level image's pixels so we can edit them\n",
        "\n",
        "maxY = len(level.keys())\n",
        "maxX = len(level[0])\n",
        "for y in range(0, maxY):\n",
        "\tfor x in range(0, maxX):\n",
        "\t\timageToUse = None\n",
        "\t\tif level[y][x] in visualization.keys():\n",
        "\t\t\timageToUse = sprites[visualization[level[y][x]]]\n",
        "\t\telif level[y][x]==\"X\":\n",
        "\t\t\timageToUse = sprites[\"groundTop\"]\n",
        "\t\tif not imageToUse == None:\n",
        "\t\t\t#If we have a sprite (imageToUse) copy its pixels over\n",
        "\t\t\tpixelsToUse = imageToUse.load()\n",
        "\t\t\tfor x2 in range(0, 18):\n",
        "\t\t\t\tfor y2 in range(0, 18):\n",
        "\t\t\t\t\tif pixelsToUse[x2,y2][3]>0:\n",
        "\t\t\t\t\t\tpixels[x*18+x2,y*18+y2] = pixelsToUse[x2,y2][0:-1]\n",
        "\n",
        "# Display the image\n",
        "image"
      ],
      "metadata": {
        "colab": {
          "base_uri": "https://localhost:8080/",
          "height": 270
        },
        "id": "WG75yjHieLNS",
        "outputId": "1912e04e-17ce-4f88-deb8-5786a2a1d74b"
      },
      "execution_count": null,
      "outputs": [
        {
          "output_type": "stream",
          "name": "stdout",
          "text": [
            "{0: '-----------------------------------------------', 1: '------SSS--S---SS--S-SSSSSSSSSSS?--------------', 2: '-----------------------------------------------', 3: '-------------------------SSSS-----SQS----------', 4: '------------------------------------S----------', 5: '-----------------------------------------------', 6: '-----------------------------------------------', 7: '------<]----[]---------------------------------', 8: '----------------------------<]?---[]-----------', 9: '-----------------------------------------------', 10: '-----------------------------------------------', 11: '--------------XXXXXXXXXXXXXXXXXX-XX-XXXXXXX--XX'}\n"
          ]
        },
        {
          "output_type": "execute_result",
          "data": {
            "text/plain": [
              "<PIL.Image.Image image mode=RGB size=846x216 at 0x7F7915C81640>"
            ],
            "image/png": "[encoded data removed]"
          },
          "metadata": {},
          "execution_count": 169
        }
      ]
    },
    {
      "cell_type": "code",
      "source": [
        "# Create a timestamp as a unique identifier for our output\n",
        "# current date and time\n",
        "now = datetime.now()\n",
        "t = now.strftime(\"%m-%d_%H:%M\")\n",
        "\n",
        "# Write the output to google drive location\n",
        "with open(output_path + '/output-%s.txt' % t, 'w') as writefile:\n",
        "    writefile.write(level_predict)\n",
        "\n",
        "# Save an image visualization to output too\n",
        "image.save(output_path + \"output-%s.png\" % t)"
      ],
      "metadata": {
        "id": "Zwy5xh6uvlLr"
      },
      "execution_count": null,
      "outputs": []
    },
    {
      "cell_type": "markdown",
      "source": [
        "# Report Accuracy"
      ],
      "metadata": {
        "id": "ueVAMF0upz4b"
      }
    },
    {
      "cell_type": "markdown",
      "source": [
        "The accuracy will be calculated based on how many of the newly added blocks are in the correct location. We will try this on a bunch of levels. The accuracy will most likely be very low, but it should be something we can compare to our other approach.\n",
        "\n",
        "Will need to also measure accuracy based on the number of added blocks that are correct. This will stop a level that produces too many of the added block by having inflated accuracy."
      ],
      "metadata": {
        "id": "suX4Fcwup7zO"
      }
    },
    {
      "cell_type": "code",
      "source": [
        "def compare_strings(str1, str2):\n",
        "  correct_char_count = 0\n",
        "  total_modified_char_count = 0\n",
        "  for i in range(len(str1)-1):\n",
        "    if str1[i] == modified_char:\n",
        "      if str2[i+1] == str1[i]:\n",
        "        correct_char_count += 1\n",
        "        # total_modified_char_count += 1 # commented this line but might be wrong\n",
        "      total_modified_char_count += 1\n",
        "    elif str2[i] == modified_char:\n",
        "    # elif str2[i+1] == modified_char: \n",
        "      total_modified_char_count += 1\n",
        "\n",
        "  if total_modified_char_count:\n",
        "    return correct_char_count/total_modified_char_count\n",
        "  else:\n",
        "    return 0\n",
        "\n",
        "# TODO: Don't do this manually :/\n",
        "original_question = '''-----------------------------------------------\n",
        "-----------------------------------------------\n",
        "-----------------------------------------------\n",
        "-----------------------------------------------\n",
        "-------------E---------------------------------\n",
        "-----------SSSSSSSS---SSS?--------------?------\n",
        "-----------------------------------------------\n",
        "----------E------------------------------------\n",
        "-----------------------------------------------\n",
        "--------S?S--------------S-----SS----?--?--?---\n",
        "-----------------------------------------------\n",
        "-----------------------------------------------\n",
        "--------------------------E-E--------E---------\n",
        "XXXXXXXXXXXXXXXXX---XXXXXXXXXXXXXXXXXXXXXXXXXXX'''\n",
        "\n",
        "original_coin = '''-----------------------------------------------\n",
        "-----------------------------------------------\n",
        "oo---------------------------------------------\n",
        "---------------------------Q-------------------\n",
        "---------------ooooooo----------XXX------------\n",
        "XXX---------XX-----------------------------XXoo\n",
        "-------------------------XX--------------------\n",
        "------------------XX---------------------------\n",
        "-----------------------------------------------\n",
        "---XXXXX-----------------------------XXXXXX----\n",
        "-----------------------------------------------\n",
        "---------------------XXXXX---------------------\n",
        "-----------------------------------------------\n",
        "---------XXXX--XXXX----------------------------'''\n",
        "\n",
        "original_cannon = '''-----------------------------------------------\n",
        "-----------------------------------------------\n",
        "-----------------------------------------------\n",
        "-----------------------------------------------\n",
        "-----------------------------------------------\n",
        "--------?SS------------------------------------\n",
        "-----------------------------------------------\n",
        "---------------------------------------------B-\n",
        "---------------------------------------------b-\n",
        "--------------------QQQQ-------------------SSXS\n",
        "-----E---------------------B-----E---B---------\n",
        "B--------b-------B--E------b---------b---------\n",
        "b--------B-------b-------------------B---------\n",
        "XXXXXXXXXXXXXXXXXXXXXXXXXXXXXXXXXXXXXXXXXXXXXXX'''\n",
        "\n",
        "accuracy = compare_strings(level_predict, original_coin)\n",
        "\n",
        "print(\"Accuracy of level is %s\" % accuracy)"
      ],
      "metadata": {
        "colab": {
          "base_uri": "https://localhost:8080/"
        },
        "id": "J23mVQUosqPl",
        "outputId": "d02840ff-f42a-4ea7-bb42-546d1e2a741e"
      },
      "execution_count": null,
      "outputs": [
        {
          "output_type": "stream",
          "name": "stdout",
          "text": [
            "Accuracy of level is 0.0\n"
          ]
        }
      ]
    },
    {
      "cell_type": "code",
      "source": [
        "modified_char = 'Q'\n",
        "test_str = '''-----------------------------------------------\n",
        "-----------------------------------------------\n",
        "-------------E---------------------------------\n",
        "-----------SSSSSSSS?--SSSQ---------------------\n",
        "---------------------?-------------------------\n",
        "----------E------------------------------------\n",
        "-----------------------------------------------\n",
        "--------S-S--------------S-----SS----Q--Q--Q---\n",
        "-----------------------------------------------\n",
        "-----------------------------------------------\n",
        "--------------------------E-E--------E---------\n",
        "XXXXXXXXXXXXXXXXX---XXXXXXXXXXXXXXXXXXXXXXXXXXX'''\n",
        "\n",
        "accuracy = compare_strings(test_str, original_question)\n",
        "\n",
        "print(\"Accuracy of level is %s\" % accuracy)"
      ],
      "metadata": {
        "colab": {
          "base_uri": "https://localhost:8080/"
        },
        "id": "mEmd--ucUDLK",
        "outputId": "e739ac00-0460-4685-8d52-42761513076a"
      },
      "execution_count": null,
      "outputs": [
        {
          "output_type": "stream",
          "name": "stdout",
          "text": [
            "Accuracy of level is 0.0\n"
          ]
        }
      ]
    },
    {
      "cell_type": "code",
      "source": [
        "test_line = test_str.splitlines()\n",
        "test_line = np.array([[*l] for l in test_line])\n",
        "print(test_line[7:12,35:40])"
      ],
      "metadata": {
        "colab": {
          "base_uri": "https://localhost:8080/"
        },
        "id": "hPGFY5VBr9r1",
        "outputId": "5e9d9f9c-df30-4e95-cf3c-9f99616f7520"
      },
      "execution_count": null,
      "outputs": [
        {
          "output_type": "stream",
          "name": "stdout",
          "text": [
            "[['-' '-' 'Q' '-' '-']\n",
            " ['-' '-' '-' '-' '-']\n",
            " ['-' '-' '-' '-' '-']\n",
            " ['-' '-' 'E' '-' '-']\n",
            " ['X' 'X' 'X' 'X' 'X']]\n"
          ]
        }
      ]
    },
    {
      "cell_type": "code",
      "source": [
        "qmark_path = '/content/drive/MyDrive/datasets/SMB_Data/Output/question block'\n",
        "cannon_path = '/content/drive/MyDrive/datasets/SMB_Data/Output/cannon sign block'\n",
        "coin_path = '/content/drive/MyDrive/datasets/SMB_Data/Output/coin block'\n",
        "\n",
        "def evaluate_results(modified_chars, original_str, path):\n",
        "  correct_char_count = 0\n",
        "  total_modified_char_count = 0\n",
        "  output_files = glob.glob(path+'/*.txt')\n",
        "\n",
        "  for path in output_files:\n",
        "    # print(path)\n",
        "    f = open(path)\n",
        "    output_str = f.read()\n",
        "    # print(\"original is\")\n",
        "    # print(original_str)\n",
        "    # print(\"\\nPredicted is\")\n",
        "    # print(output_str)\n",
        "    for i in range(min(len(original_str), len(output_str))-1):\n",
        "      if original_str[i] in modified_chars:\n",
        "        # print(i, output_str[i+1])\n",
        "        if output_str[i+1] in modified_chars:\n",
        "          correct_char_count += 1\n",
        "        total_modified_char_count += 1\n",
        "      # elif output_str[i+1] in modified_char: \n",
        "      #   total_modified_char_count += 1\n",
        "    # print(compare_strings(original_str, output_str))\n",
        "\n",
        "  if total_modified_char_count:\n",
        "    return correct_char_count/total_modified_char_count\n",
        "  else:\n",
        "    return 0\n",
        "\n",
        "print(\"Accuracy of coin levels is: \", evaluate_results(['o'], original_coin, coin_path))\n",
        "print(\"Accuracy of ? levels is: \", evaluate_results(['Q', '?'], original_question, qmark_path))\n",
        "print(\"Accuracy of cannon levels is: \", evaluate_results(['b', 'B'], original_cannon, cannon_path))\n"
      ],
      "metadata": {
        "colab": {
          "base_uri": "https://localhost:8080/"
        },
        "id": "ee47UoucgoWJ",
        "outputId": "96fb5a4d-cbf7-4355-c52c-417e18647122"
      },
      "execution_count": null,
      "outputs": [
        {
          "output_type": "stream",
          "name": "stdout",
          "text": [
            "Accuracy of coin levels is:  0.09090909090909091\n",
            "Accuracy of ? levels is:  0.023809523809523808\n",
            "Accuracy of cannon levels is:  0.038461538461538464\n"
          ]
        }
      ]
    },
    {
      "cell_type": "markdown",
      "source": [
        "The window-based version"
      ],
      "metadata": {
        "id": "i4sl5YeXErL1"
      }
    },
    {
      "cell_type": "code",
      "source": [
        "qmark_path = '/content/drive/MyDrive/datasets/SMB_Data/Output/question block'\n",
        "cannon_path = '/content/drive/MyDrive/datasets/SMB_Data/Output/cannon sign block'\n",
        "coin_path = '/content/drive/MyDrive/datasets/SMB_Data/Output/coin block'\n",
        "\n",
        "def evaluate_results(margins, modified_chars, original_str, path):\n",
        "  correct_char_count = 0\n",
        "  total_modified_char_count = 0\n",
        "  output_files = glob.glob(path+'/*.txt')\n",
        "  # print(\"\\noriginal is\")\n",
        "  # print(original_str)\n",
        "  original_str = original_str.splitlines()\n",
        "  original_str = np.array([[*l] for l in original_str], dtype=object)\n",
        "  orig_shape = (len(original_str), len(original_str[0]))\n",
        "\n",
        "  for path in output_files:\n",
        "    # print(path)\n",
        "    f = open(path)\n",
        "    output_str = f.read()\n",
        "    # print(\"\\nPredicted is\")\n",
        "    # print(output_str)\n",
        "    output_str = output_str.splitlines()\n",
        "    for i in range(len(output_str)):\n",
        "      if len(output_str[i]) > 47:\n",
        "        output_str[i] = output_str[i][:47]\n",
        "      elif len(output_str[i]) < 47:\n",
        "        while len(output_str[i]) <47:\n",
        "          output_str[i] = output_str[i]+'-'\n",
        "\n",
        "    output_str = np.array([[*l] for l in output_str], dtype=object)\n",
        "    out_shape = (len(output_str), len(output_str[0]))\n",
        "    # print(output_str)\n",
        "    # print(out_shape)\n",
        "    m, n = margins\n",
        "\n",
        "    for i, line in enumerate(original_str):\n",
        "      for j, char in enumerate(line):\n",
        "        if char in modified_chars:\n",
        "          # print(\"i, j =\", i, j)\n",
        "          # print(\"window dims \", max(0, i-m), min(out_shape[0], i+m+1),max(0, j-n), min(out_shape[1], j+n+1))\n",
        "          # print(output_str.shape)\n",
        "          window = output_str[max(0, i-m): min(out_shape[0], i+m+1), max(0, j-n): min(out_shape[1], j+n+1)]\n",
        "          # print(window)\n",
        "          if any(any(e in l for e in modified_chars) for l in window):\n",
        "            correct_char_count += 1\n",
        "          total_modified_char_count +=1\n",
        "\n",
        "  # print(correct_char_count, total_modified_char_count)\n",
        "  if total_modified_char_count:\n",
        "    return correct_char_count/total_modified_char_count\n",
        "  else:\n",
        "    return 0\n",
        "\n",
        "for m, n in [(1,1), (2,2), (2,3), (3,3), (5,5), (10,10)]:  \n",
        "# for m,n in [(2,2)]:\n",
        "  print(\"===========Accuracy results using a {}x{} window===========\".format(2*m+1, 2*n+1)) \n",
        "  print(\"Accuracy of coin levels is: \", evaluate_results((m, n),['o'], original_coin, coin_path))\n",
        "  print(\"Accuracy of ? levels is: \", evaluate_results((m, n),['Q', '?'], original_question, qmark_path))\n",
        "  print(\"Accuracy of cannon levels is: \", evaluate_results((m, n),['b', 'B'], original_cannon, cannon_path))\n",
        "  print(\"=========================================================\\n\")\n"
      ],
      "metadata": {
        "colab": {
          "base_uri": "https://localhost:8080/"
        },
        "id": "P0mXahL_AE4_",
        "outputId": "77ad7cac-c9dc-47a0-b007-57198ce069d1"
      },
      "execution_count": null,
      "outputs": [
        {
          "output_type": "stream",
          "name": "stdout",
          "text": [
            "===========Accuracy results using a 3x3 window===========\n",
            "Accuracy of coin levels is:  0.2727272727272727\n",
            "Accuracy of ? levels is:  0.2619047619047619\n",
            "Accuracy of cannon levels is:  0.24615384615384617\n",
            "=========================================================\n",
            "\n",
            "===========Accuracy results using a 5x5 window===========\n",
            "Accuracy of coin levels is:  0.3939393939393939\n",
            "Accuracy of ? levels is:  0.30952380952380953\n",
            "Accuracy of cannon levels is:  0.3153846153846154\n",
            "=========================================================\n",
            "\n",
            "===========Accuracy results using a 5x7 window===========\n",
            "Accuracy of coin levels is:  0.47474747474747475\n",
            "Accuracy of ? levels is:  0.3333333333333333\n",
            "Accuracy of cannon levels is:  0.4307692307692308\n",
            "=========================================================\n",
            "\n",
            "===========Accuracy results using a 7x7 window===========\n",
            "Accuracy of coin levels is:  0.47474747474747475\n",
            "Accuracy of ? levels is:  0.42857142857142855\n",
            "Accuracy of cannon levels is:  0.47692307692307695\n",
            "=========================================================\n",
            "\n",
            "===========Accuracy results using a 11x11 window===========\n",
            "Accuracy of coin levels is:  0.5555555555555556\n",
            "Accuracy of ? levels is:  0.7619047619047619\n",
            "Accuracy of cannon levels is:  0.6615384615384615\n",
            "=========================================================\n",
            "\n",
            "===========Accuracy results using a 21x21 window===========\n",
            "Accuracy of coin levels is:  0.6868686868686869\n",
            "Accuracy of ? levels is:  0.9285714285714286\n",
            "Accuracy of cannon levels is:  0.8153846153846154\n",
            "=========================================================\n",
            "\n"
          ]
        }
      ]
    },
    {
      "cell_type": "markdown",
      "source": [
        "Another version of accuracy with a margin(m) for correct prediction. Instead considering only the character with index i, we consider the interval including m chars before and after."
      ],
      "metadata": {
        "id": "WGTTc7G8RzQV"
      }
    },
    {
      "cell_type": "code",
      "source": [
        "def compare_strings_wmargin(str1, str2, margin=0):\n",
        "  correct_char_count = 0\n",
        "  total_modified_char_count = 0\n",
        "\n",
        "  for i in range(len(str1)):\n",
        "    if str1[i] == modified_char:\n",
        "      if modified_char in str2[max(0, (i+1)-margin): min(len(str2), (i+1)+margin+1)]:\n",
        "        correct_char_count += 1\n",
        "        # total_modified_char_count += 1 # commented this line but might be wrong\n",
        "      total_modified_char_count += 1\n",
        "    elif str2[i+1] == modified_char:\n",
        "      if modified_char not in str1[max(0, i-margin): min(len(str2), i+margin+1)]:\n",
        "        total_modified_char_count += 1\n",
        "      \n",
        "  if total_modified_char_count:\n",
        "    return correct_char_count/total_modified_char_count\n",
        "  else:\n",
        "    return 0\n",
        "\n",
        "# TODO: Don't do this manually :/\n",
        "original_question = '''-----------------------------------------------\n",
        "-----------------------------------------------\n",
        "-----------------------------------------------\n",
        "-----------------------------------------------\n",
        "-------------E---------------------------------\n",
        "-----------SSSSSSSS---SSS?--------------?------\n",
        "-----------------------------------------------\n",
        "----------E------------------------------------\n",
        "-----------------------------------------------\n",
        "--------S?S--------------S-----SS----?--?--?---\n",
        "-----------------------------------------------\n",
        "-----------------------------------------------\n",
        "--------------------------E-E--------E---------\n",
        "XXXXXXXXXXXXXXXXX---XXXXXXXXXXXXXXXXXXXXXXXXXXX'''\n",
        "\n",
        "original_coin = '''-----------------------------------------------\n",
        "-----------------------------------------------\n",
        "oo---------------------------------------------\n",
        "---------------------------Q-------------------\n",
        "---------------ooooooo----------XXX------------\n",
        "XXX---------XX-----------------------------XXoo\n",
        "-------------------------XX--------------------\n",
        "------------------XX---------------------------\n",
        "-----------------------------------------------\n",
        "---XXXXX-----------------------------XXXXXX----\n",
        "-----------------------------------------------\n",
        "---------------------XXXXX---------------------\n",
        "-----------------------------------------------\n",
        "---------XXXX--XXXX----------------------------'''\n",
        "\n",
        "for margin in range(5):\n",
        "  accuracy = compare_strings_wmargin(level_predict, original_coin, margin)\n",
        "\n",
        "  print(\"Accuracy of level is with margin {}, is: {}\".format(margin, accuracy))"
      ],
      "metadata": {
        "id": "H39XzlIIRxK1",
        "colab": {
          "base_uri": "https://localhost:8080/"
        },
        "outputId": "3926b055-3489-4a43-9f5f-28761bf762dd"
      },
      "execution_count": null,
      "outputs": [
        {
          "output_type": "stream",
          "name": "stdout",
          "text": [
            "Accuracy of level is with margin 0, is: 0\n",
            "Accuracy of level is with margin 1, is: 0\n",
            "Accuracy of level is with margin 2, is: 0\n",
            "Accuracy of level is with margin 3, is: 0\n",
            "Accuracy of level is with margin 4, is: 0\n"
          ]
        }
      ]
    },
    {
      "cell_type": "markdown",
      "source": [
        "Accuracy with a window"
      ],
      "metadata": {
        "id": "gNuTLssogpBf"
      }
    }
  ]
}
